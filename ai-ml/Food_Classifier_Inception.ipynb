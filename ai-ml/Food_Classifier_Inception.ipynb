{
 "cells": [
  {
   "cell_type": "code",
   "execution_count": 1,
   "id": "d6bac211-5479-4637-8a6a-ca15ac983b95",
   "metadata": {},
   "outputs": [],
   "source": [
    "import tensorflow as tf\n",
    "from tensorflow import keras\n",
    "import numpy as np\n",
    "import pandas as pd\n",
    "import os\n",
    "import PIL\n",
    "import IPython.display\n",
    "import PIL.Image\n",
    "from tensorflow.keras.utils import to_categorical\n",
    "from sklearn.model_selection import train_test_split"
   ]
  },
  {
   "cell_type": "code",
   "execution_count": 2,
   "id": "f50fbcb1-adf5-442e-bffe-952cc751dd6f",
   "metadata": {},
   "outputs": [
    {
     "name": "stdout",
     "output_type": "stream",
     "text": [
      "[PhysicalDevice(name='/physical_device:CPU:0', device_type='CPU'), PhysicalDevice(name='/physical_device:GPU:0', device_type='GPU')]\n"
     ]
    }
   ],
   "source": [
    "print(tf.config.list_physical_devices())"
   ]
  },
  {
   "cell_type": "code",
   "execution_count": 3,
   "id": "e9f05f53-47b7-40d2-a5c2-3568674479c7",
   "metadata": {},
   "outputs": [],
   "source": [
    "imgs_path = []\n",
    "img_labels = []\n",
    "imgs = []\n",
    "for dirname, _, filenames in os.walk('.\\input'):\n",
    "    for filename in filenames:\n",
    "        #print(os.path.join(dirname, filename))\n",
    "        imgs_path.append(os.path.join(dirname, filename))\n",
    "        imgs.append(tf.keras.utils.load_img(os.path.join(dirname, filename)))\n",
    "        label = dirname\n",
    "        index = label.rfind(\"\\\\\")\n",
    "        while '\\\\' in label:\n",
    "            label = label[index + 1:]\n",
    "        img_labels.append(label)"
   ]
  },
  {
   "cell_type": "code",
   "execution_count": 4,
   "id": "96feb767-cdad-45d5-9e73-3b40b46ec2e4",
   "metadata": {},
   "outputs": [
    {
     "name": "stdout",
     "output_type": "stream",
     "text": [
      "Apple Crimson Snow\n"
     ]
    },
    {
     "data": {
      "image/jpeg": "[encoded data removed]",
      "image/png": "[encoded data removed]",
      "text/plain": [
       "<PIL.JpegImagePlugin.JpegImageFile image mode=RGB size=100x100>"
      ]
     },
     "metadata": {},
     "output_type": "display_data"
    }
   ],
   "source": [
    "index = 23180\n",
    "#print(len(imgs_path))\n",
    "print(img_labels[index])\n",
    "IPython.display.display(imgs[index])"
   ]
  },
  {
   "cell_type": "code",
   "execution_count": 5,
   "id": "cbcd87a9-1065-407d-9663-fb32d6722c0c",
   "metadata": {},
   "outputs": [
    {
     "name": "stdout",
     "output_type": "stream",
     "text": [
      "['Apple Braeburn', 'Apple Braeburn', 'Apple Braeburn', 'Apple Braeburn', 'Apple Braeburn', ..., 'Watermelon', 'Watermelon', 'Watermelon', 'Watermelon', 'Watermelon']\n",
      "Length: 90380\n",
      "Categories (131, object): ['Apple Braeburn', 'Apple Crimson Snow', 'Apple Golden 1', 'Apple Golden 2', ..., 'Tomato Yellow', 'Tomato not Ripened', 'Walnut', 'Watermelon']\n",
      "[  0   0   0 ... 130 130 130]\n"
     ]
    }
   ],
   "source": [
    "pd_labels = pd.DataFrame(img_labels)\n",
    "target_indexes = pd_labels[pd_labels[0].str.contains('Apple Braeburn')].index\n",
    "labels_cat = pd.Categorical(pd_labels[0])\n",
    "print(labels_cat)\n",
    "print(labels_cat.codes)\n",
    "imgs_norm = np.array(imgs).astype('float32') / 255  #[0,255]->[0,1]\n",
    "\n",
    "x = imgs_norm\n",
    "y = labels_cat.codes\n",
    "x_train, x_test, y_train, y_test = train_test_split(x,\n",
    "                                                    y,\n",
    "                                                    test_size=0.2,\n",
    "                                                    random_state=41)\n",
    "\n",
    "x_train, x_val, y_train, y_val = train_test_split(x_train,\n",
    "                                                  y_train,\n",
    "                                                  test_size=0.2,\n",
    "                                                  random_state=42)"
   ]
  },
  {
   "cell_type": "code",
   "execution_count": 6,
   "id": "da94e179-e9e5-45f2-a870-4c0f5cff85db",
   "metadata": {},
   "outputs": [
    {
     "name": "stdout",
     "output_type": "stream",
     "text": [
      "[  0   1   2   3   4   5   6   7   8   9  10  11  12  13  14  15  16  17\n",
      "  18  19  20  21  22  23  24  25  26  27  28  29  30  31  32  33  34  35\n",
      "  36  37  38  39  40  41  42  43  44  45  46  47  48  49  50  51  52  53\n",
      "  54  55  56  57  58  59  60  61  62  63  64  65  66  67  68  69  70  71\n",
      "  72  73  74  75  76  77  78  79  80  81  82  83  84  85  86  87  88  89\n",
      "  90  91  92  93  94  95  96  97  98  99 100 101 102 103 104 105 106 107\n",
      " 108 109 110 111 112 113 114 115 116 117 118 119 120 121 122 123 124 125\n",
      " 126 127 128 129 130]\n"
     ]
    }
   ],
   "source": [
    "print(np.unique(y_train))"
   ]
  },
  {
   "cell_type": "code",
   "execution_count": 53,
   "id": "1ae079a6-db4a-41de-a055-67464bf0eb14",
   "metadata": {},
   "outputs": [],
   "source": [
    "tf.random.set_seed(1)\n",
    "np.random.seed(1)\n",
    "\n",
    "IMG_SIZE = (100, 100)\n",
    "NUM_CLASSES = 131\n",
    "EPOCHS = 5\n",
    "model = keras.applications.InceptionV3(include_top=False, input_shape=IMG_SIZE + (3,))\n",
    "#for layer in model.layers:\n",
    "#    layer.trainable = False\n",
    "\n",
    "x = keras.layers.GlobalAveragePooling2D()(model.output)\n",
    "x = keras.layers.Dense(100, activation='relu',\n",
    "                       kernel_initializer=tf.keras.initializers.HeNormal(),\n",
    "                       kernel_regularizer=tf.keras.regularizers.l2(0.001),\n",
    "                      )(x)\n",
    "x = keras.layers.Dropout(0.5)(x)\n",
    "x = keras.layers.Dense(100, activation='relu',\n",
    "                       kernel_regularizer=tf.keras.regularizers.l2(0.001),\n",
    "                      )(x)\n",
    "x = keras.layers.Dropout(0.5)(x)\n",
    "output = keras.layers.Dense(NUM_CLASSES, activation='softmax')(x)\n",
    "model = keras.models.Model(inputs=model.input, outputs=output)"
   ]
  },
  {
   "cell_type": "code",
   "execution_count": 54,
   "id": "5f3053c4-b746-41a6-8a59-0db80bc06b63",
   "metadata": {},
   "outputs": [],
   "source": [
    "model.compile(\n",
    "    optimizer = 'adam',\n",
    "    loss = 'sparse_categorical_crossentropy',    \n",
    "    metrics = ['accuracy']\n",
    ")\n",
    "#print(model.summary())"
   ]
  },
  {
   "cell_type": "code",
   "execution_count": 55,
   "id": "dd5a9960-0c3c-4821-af9f-1289d4b8188d",
   "metadata": {},
   "outputs": [],
   "source": [
    "with tf.device('/cpu:0'):\n",
    "    x_train_tensor = tf.convert_to_tensor(x_train, np.float32)\n",
    "    y_train_tensor = tf.convert_to_tensor(y_train, np.float32)\n",
    "    x_val_tensor = tf.convert_to_tensor(x_val, np.float32)\n",
    "    y_val_tensor = tf.convert_to_tensor(y_val, np.float32)\n",
    "    x_test_tensor = tf.convert_to_tensor(x_test, np.float32)\n",
    "    y_test_tensor = tf.convert_to_tensor(y_test, np.float32)"
   ]
  },
  {
   "cell_type": "code",
   "execution_count": 56,
   "id": "bd09fd43-c1bc-4449-9496-802c0890e574",
   "metadata": {},
   "outputs": [
    {
     "name": "stdout",
     "output_type": "stream",
     "text": [
      "Epoch 1/10\n",
      "904/904 [==============================] - 213s 214ms/step - loss: 4.3181 - accuracy: 0.0537 - val_loss: 5.7683 - val_accuracy: 0.0864\n",
      "Epoch 2/10\n",
      "904/904 [==============================] - 191s 211ms/step - loss: 2.8236 - accuracy: 0.1994 - val_loss: 1.6158 - val_accuracy: 0.4283\n",
      "Epoch 3/10\n",
      "904/904 [==============================] - 183s 202ms/step - loss: 1.8206 - accuracy: 0.4203 - val_loss: 0.9824 - val_accuracy: 0.6861\n",
      "Epoch 4/10\n",
      "904/904 [==============================] - 190s 210ms/step - loss: 1.2706 - accuracy: 0.5944 - val_loss: 0.7456 - val_accuracy: 0.7798\n",
      "Epoch 5/10\n",
      "904/904 [==============================] - 211s 234ms/step - loss: 1.0234 - accuracy: 0.6886 - val_loss: 0.3881 - val_accuracy: 0.9013\n",
      "Epoch 6/10\n",
      "904/904 [==============================] - 188s 208ms/step - loss: 0.8186 - accuracy: 0.7635 - val_loss: 0.4764 - val_accuracy: 0.9020\n",
      "Epoch 7/10\n",
      "904/904 [==============================] - 191s 211ms/step - loss: 0.7359 - accuracy: 0.8021 - val_loss: 0.2699 - val_accuracy: 0.9524\n",
      "Epoch 8/10\n",
      "904/904 [==============================] - 191s 212ms/step - loss: 0.5978 - accuracy: 0.8466 - val_loss: 0.2409 - val_accuracy: 0.9674\n",
      "Epoch 9/10\n",
      "904/904 [==============================] - 190s 210ms/step - loss: 0.5443 - accuracy: 0.8663 - val_loss: 0.2735 - val_accuracy: 0.9666\n",
      "Epoch 10/10\n",
      "904/904 [==============================] - 176s 194ms/step - loss: 0.4750 - accuracy: 0.8900 - val_loss: 0.9611 - val_accuracy: 0.8347\n"
     ]
    }
   ],
   "source": [
    "init_weights = model.get_weights()\n",
    "history = model.fit(\n",
    "    x_train_tensor,\n",
    "    y_train_tensor,\n",
    "    epochs = 10,\n",
    "    batch_size = 64,\n",
    "    validation_data = (x_val_tensor, y_val_tensor)\n",
    ")"
   ]
  },
  {
   "cell_type": "code",
   "execution_count": 57,
   "id": "66a67c46-4baf-48dd-a202-fde8c7b70fe4",
   "metadata": {},
   "outputs": [
    {
     "data": {
      "image/png": "[encoded data removed]",
      "text/plain": [
       "<Figure size 640x480 with 1 Axes>"
      ]
     },
     "metadata": {},
     "output_type": "display_data"
    },
    {
     "name": "stdout",
     "output_type": "stream",
     "text": [
      "565/565 [==============================] - 68s 120ms/step - loss: 0.9303 - accuracy: 0.8381\n"
     ]
    },
    {
     "data": {
      "text/plain": [
       "[0.9303140640258789, 0.8380725979804993]"
      ]
     },
     "execution_count": 57,
     "metadata": {},
     "output_type": "execute_result"
    }
   ],
   "source": [
    "import matplotlib.pyplot as plt\n",
    "\n",
    "acc = history.history['accuracy']\n",
    "val_acc = history.history['val_accuracy']\n",
    "loss = history.history['loss']\n",
    "val_loss = history.history['val_loss']\n",
    "\n",
    "epochs = range(1, len(acc) + 1)\n",
    "\n",
    "plt.plot(epochs, loss, 'bo', label='Training loss')\n",
    "plt.plot(epochs, val_loss, 'b', label='Validation loss')\n",
    "plt.title('Training and validation loss')\n",
    "plt.xlabel('Epochs')\n",
    "plt.ylabel('Loss')\n",
    "plt.legend()\n",
    "\n",
    "plt.show()\n",
    "\n",
    "results = model.evaluate(x_test_tensor, y_test_tensor)\n",
    "results"
   ]
  },
  {
   "cell_type": "code",
   "execution_count": 59,
   "id": "c766be25-d829-48a2-b17a-10011327f0d9",
   "metadata": {},
   "outputs": [],
   "source": [
    "from sklearn.metrics import classification_report\n",
    "from sklearn.metrics import confusion_matrix\n",
    "from sklearn.metrics import accuracy_score\n",
    "from sklearn.metrics import f1_score"
   ]
  },
  {
   "cell_type": "code",
   "execution_count": 60,
   "id": "f4400ee2-d606-47cb-a25d-4810e30d1d8d",
   "metadata": {},
   "outputs": [
    {
     "name": "stdout",
     "output_type": "stream",
     "text": [
      "565/565 [==============================] - 66s 102ms/step\n"
     ]
    }
   ],
   "source": [
    "predictions = model.predict(x_test_tensor)"
   ]
  },
  {
   "cell_type": "code",
   "execution_count": 93,
   "id": "6377a2f1-a236-42e7-b05a-efb77d393594",
   "metadata": {},
   "outputs": [
    {
     "name": "stdout",
     "output_type": "stream",
     "text": [
      "(63,)\n",
      "[ 63.  40. 119. ...  57. 130. 114.]\n"
     ]
    }
   ],
   "source": [
    "pred_array = np.array([])\n",
    "for i in range(len(predictions)):\n",
    "    #print(f\"loop: {i}, value: {np.unravel_index(np.argmax(predictions[i]), predictions[i].shape)}\")\n",
    "    pred_array = np.append(pred_array, np.unravel_index(np.argmax(predictions[i]), predictions[i].shape))\n",
    "\n",
    "print(pred_array)"
   ]
  },
  {
   "cell_type": "code",
   "execution_count": 97,
   "id": "5fda82c1-44ba-47e7-af2a-6cb3417d4219",
   "metadata": {},
   "outputs": [
    {
     "name": "stdout",
     "output_type": "stream",
     "text": [
      "F1 Score:  0.8227957314460188\n"
     ]
    },
    {
     "name": "stderr",
     "output_type": "stream",
     "text": [
      "C:\\Users\\Ribs\\anaconda3\\envs\\py310\\lib\\site-packages\\sklearn\\metrics\\_classification.py:1509: UndefinedMetricWarning: Precision is ill-defined and being set to 0.0 in labels with no predicted samples. Use `zero_division` parameter to control this behavior.\n",
      "  _warn_prf(average, modifier, f\"{metric.capitalize()} is\", len(result))\n",
      "C:\\Users\\Ribs\\anaconda3\\envs\\py310\\lib\\site-packages\\sklearn\\metrics\\_classification.py:1509: UndefinedMetricWarning: Precision is ill-defined and being set to 0.0 in labels with no predicted samples. Use `zero_division` parameter to control this behavior.\n",
      "  _warn_prf(average, modifier, f\"{metric.capitalize()} is\", len(result))\n",
      "C:\\Users\\Ribs\\anaconda3\\envs\\py310\\lib\\site-packages\\sklearn\\metrics\\_classification.py:1509: UndefinedMetricWarning: Precision is ill-defined and being set to 0.0 in labels with no predicted samples. Use `zero_division` parameter to control this behavior.\n",
      "  _warn_prf(average, modifier, f\"{metric.capitalize()} is\", len(result))\n"
     ]
    },
    {
     "name": "stdout",
     "output_type": "stream",
     "text": [
      "Classification Report: \n",
      "               precision    recall  f1-score   support\n",
      "\n",
      "           0       0.65      0.90      0.75       125\n",
      "           1       0.99      1.00      1.00       127\n",
      "           2       0.89      0.86      0.87       135\n",
      "           3       0.89      0.92      0.91       141\n",
      "           4       1.00      0.33      0.50       141\n",
      "           5       0.59      1.00      0.74       134\n",
      "           6       0.87      0.99      0.93       120\n",
      "           7       0.95      0.77      0.85       138\n",
      "           8       0.85      0.99      0.92       126\n",
      "           9       0.89      1.00      0.94       116\n",
      "          10       0.98      1.00      0.99       159\n",
      "          11       0.89      1.00      0.94       132\n",
      "          12       1.00      0.93      0.96       173\n",
      "          13       1.00      0.42      0.59       129\n",
      "          14       0.94      1.00      0.97       119\n",
      "          15       0.67      1.00      0.80       130\n",
      "          16       0.78      0.87      0.83       127\n",
      "          17       1.00      0.71      0.83       112\n",
      "          18       1.00      0.75      0.86       162\n",
      "          19       0.95      0.54      0.69       142\n",
      "          20       0.62      0.80      0.70       112\n",
      "          21       1.00      0.40      0.58       141\n",
      "          22       0.96      1.00      0.98       127\n",
      "          23       1.00      0.61      0.76       121\n",
      "          24       1.00      0.57      0.72       138\n",
      "          25       1.00      0.70      0.82       159\n",
      "          26       1.00      0.92      0.96       136\n",
      "          27       0.99      1.00      0.99       195\n",
      "          28       1.00      0.99      1.00       204\n",
      "          29       1.00      0.51      0.67       140\n",
      "          30       1.00      0.97      0.99       112\n",
      "          31       1.00      1.00      1.00       131\n",
      "          32       0.85      1.00      0.92       128\n",
      "          33       0.52      0.95      0.67       131\n",
      "          34       0.36      0.84      0.50       114\n",
      "          35       0.98      0.98      0.98       124\n",
      "          36       0.88      0.94      0.91       130\n",
      "          37       0.95      0.90      0.93       103\n",
      "          38       1.00      0.77      0.87       124\n",
      "          39       0.78      0.71      0.74       153\n",
      "          40       0.95      0.78      0.86       133\n",
      "          41       1.00      0.76      0.86       191\n",
      "          42       1.00      0.89      0.94        76\n",
      "          43       0.98      0.97      0.98       115\n",
      "          44       0.78      1.00      0.87       251\n",
      "          45       1.00      1.00      1.00       119\n",
      "          46       1.00      1.00      1.00       125\n",
      "          47       1.00      0.99      1.00       126\n",
      "          48       1.00      1.00      1.00       139\n",
      "          49       1.00      1.00      1.00       102\n",
      "          50       0.67      1.00      0.80       119\n",
      "          51       1.00      1.00      1.00       116\n",
      "          52       0.82      1.00      0.90       138\n",
      "          53       0.83      1.00      0.91       134\n",
      "          54       0.89      1.00      0.94       129\n",
      "          55       0.83      1.00      0.91       120\n",
      "          56       0.95      1.00      0.97       114\n",
      "          57       0.74      0.99      0.85       120\n",
      "          58       0.88      1.00      0.94       144\n",
      "          59       0.99      1.00      1.00       145\n",
      "          60       1.00      1.00      1.00       144\n",
      "          61       0.44      1.00      0.61       151\n",
      "          62       1.00      1.00      1.00       122\n",
      "          63       0.99      1.00      1.00       123\n",
      "          64       0.50      1.00      0.66       124\n",
      "          65       0.42      1.00      0.59       109\n",
      "          66       0.56      0.88      0.68        73\n",
      "          67       1.00      0.89      0.94       138\n",
      "          68       0.73      0.89      0.80       197\n",
      "          69       0.80      0.99      0.88       129\n",
      "          70       0.92      0.96      0.94       136\n",
      "          71       0.84      1.00      0.91       124\n",
      "          72       0.99      0.93      0.96       170\n",
      "          73       0.90      0.93      0.91       136\n",
      "          74       0.92      0.99      0.95       124\n",
      "          75       0.98      1.00      0.99       123\n",
      "          76       0.79      1.00      0.88       107\n",
      "          77       0.99      1.00      1.00       133\n",
      "          78       0.82      0.97      0.89       138\n",
      "          79       0.92      1.00      0.96       118\n",
      "          80       0.72      1.00      0.84       140\n",
      "          81       1.00      1.00      1.00       181\n",
      "          82       1.00      0.60      0.75       129\n",
      "          83       0.83      0.80      0.82       116\n",
      "          84       1.00      0.69      0.82       189\n",
      "          85       1.00      0.79      0.88       128\n",
      "          86       0.97      0.94      0.96       196\n",
      "          87       0.99      0.96      0.98        82\n",
      "          88       0.62      0.41      0.50       122\n",
      "          89       0.97      1.00      0.99       191\n",
      "          90       1.00      0.26      0.42       164\n",
      "          91       0.28      0.56      0.38       140\n",
      "          92       1.00      0.13      0.23       141\n",
      "          93       1.00      1.00      1.00       132\n",
      "          94       1.00      0.55      0.71       198\n",
      "          95       1.00      0.97      0.99       200\n",
      "          96       1.00      0.20      0.33       184\n",
      "          97       1.00      0.60      0.75       121\n",
      "          98       0.99      1.00      0.99       139\n",
      "          99       0.80      0.80      0.80       126\n",
      "         100       1.00      0.93      0.96       132\n",
      "         101       1.00      0.31      0.47       139\n",
      "         102       0.84      1.00      0.91       131\n",
      "         103       0.85      1.00      0.92       112\n",
      "         104       0.96      1.00      0.98       244\n",
      "         105       0.93      0.81      0.87       131\n",
      "         106       0.98      1.00      0.99       122\n",
      "         107       0.77      0.92      0.84       119\n",
      "         108       1.00      0.97      0.98       133\n",
      "         109       1.00      0.61      0.76       118\n",
      "         110       0.75      1.00      0.86       108\n",
      "         111       0.81      0.99      0.89       134\n",
      "         112       0.72      1.00      0.83       136\n",
      "         113       0.93      1.00      0.97       126\n",
      "         114       1.00      1.00      1.00       126\n",
      "         115       0.93      0.65      0.76       116\n",
      "         116       0.89      0.80      0.84       121\n",
      "         117       0.49      0.14      0.21       197\n",
      "         118       1.00      0.77      0.87       124\n",
      "         119       0.77      0.97      0.86       125\n",
      "         120       0.59      0.16      0.25       160\n",
      "         121       1.00      1.00      1.00       176\n",
      "         122       0.60      0.99      0.75       216\n",
      "         123       0.49      0.96      0.65       142\n",
      "         124       1.00      1.00      1.00       143\n",
      "         125       1.00      0.11      0.20       170\n",
      "         126       1.00      1.00      1.00       105\n",
      "         127       0.00      0.00      0.00       124\n",
      "         128       0.00      0.00      0.00       130\n",
      "         129       0.96      1.00      0.98       182\n",
      "         130       0.52      0.88      0.65       129\n",
      "\n",
      "    accuracy                           0.84     18076\n",
      "   macro avg       0.87      0.84      0.83     18076\n",
      "weighted avg       0.87      0.84      0.82     18076\n",
      "\n",
      "Confusion Matrix: \n",
      " [[112   0   0 ...   0   0   0]\n",
      " [  0 127   0 ...   0   0   0]\n",
      " [  0   0 116 ...   0   0   0]\n",
      " ...\n",
      " [  0   0   0 ...   0   0   0]\n",
      " [  0   0   0 ...   0 182   0]\n",
      " [  0   0   0 ...   0   0 113]]\n",
      "Accuracy Score:  0.8380725824297411\n"
     ]
    }
   ],
   "source": [
    "print(\"F1 Score: \", f1_score(y_test, pred_array, average='weighted'))\n",
    "print(\"Classification Report: \\n\", classification_report(y_test, pred_array))\n",
    "print(\"Confusion Matrix: \\n\", confusion_matrix(y_test, pred_array))\n",
    "print(\"Accuracy Score: \", accuracy_score(y_test, pred_array))"
   ]
  },
  {
   "cell_type": "code",
   "execution_count": null,
   "id": "b3f1b81b-b4f6-45d0-aae5-f8a8c3729f2f",
   "metadata": {},
   "outputs": [],
   "source": []
  }
 ],
 "metadata": {
  "kernelspec": {
   "display_name": "PY310TFGPU",
   "language": "python",
   "name": "py310"
  },
  "language_info": {
   "codemirror_mode": {
    "name": "ipython",
    "version": 3
   },
   "file_extension": ".py",
   "mimetype": "text/x-python",
   "name": "python",
   "nbconvert_exporter": "python",
   "pygments_lexer": "ipython3",
   "version": "3.10.14"
  }
 },
 "nbformat": 4,
 "nbformat_minor": 5
}
