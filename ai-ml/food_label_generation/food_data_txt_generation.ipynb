{
 "cells": [
  {
   "cell_type": "code",
   "execution_count": 3,
   "id": "49103ee4-97a6-492e-8ff4-454d1b50405c",
   "metadata": {},
   "outputs": [],
   "source": [
    "import os\n",
    "\n",
    "base_dir = r'D:\\Study\\Trimester 3\\Project\\Data\\fruits_dataset\\Test'\n",
    "destination_dir = r'D:\\Study\\Trimester 3\\Project\\Data\\fruits_dataset\\Data\\Test'\n",
    "\n",
    "#base_dir = r'D:\\Study\\Trimester 3\\Project\\Data\\fruits_dataset\\Training'\n",
    "#destination_dir = r'D:\\Study\\Trimester 3\\Project\\Data\\fruits_dataset\\Data\\Training'\n",
    "\n",
    "content_template = \"0.500000 0.500000 1.000000 1.000000\"\n",
    "\n",
    "image_files = []\n",
    "\n",
    "for folder_index, folder_name in enumerate(os.listdir(base_dir), start=0):\n",
    "    folder_path = os.path.join(base_dir, folder_name)\n",
    "    for file_name in os.listdir(folder_path):\n",
    "        file_path = os.path.join(folder_path, file_name)    \n",
    "        image_files.append((folder_name, folder_index, file_path))"
   ]
  },
  {
   "cell_type": "code",
   "execution_count": 4,
   "id": "d57307cd-7bd8-4ef5-bd62-7d2b91fd2413",
   "metadata": {},
   "outputs": [
    {
     "name": "stdout",
     "output_type": "stream",
     "text": [
      "Text files created!!!\n"
     ]
    }
   ],
   "source": [
    "for folder_name, folder_index, image_path in image_files:\n",
    "    original_folder_path, file_name = os.path.split(image_path)\n",
    "    \n",
    "    txt_file_name = os.path.splitext(file_name)[0] + '.txt'\n",
    "    new_folder_path = os.path.join(destination_dir, str(folder_name))\n",
    "    txt_file_path = os.path.join(new_folder_path, txt_file_name)\n",
    "    os.makedirs(new_folder_path, exist_ok=True)\n",
    "    with open(txt_file_path, 'w') as txt_file:\n",
    "        txt_file.write(f\"{folder_index} {content_template}\")\n",
    "\n",
    "print(\"Text files created!!!\")"
   ]
  },
  {
   "cell_type": "code",
   "execution_count": null,
   "id": "874d2670-dbe2-417d-ac3f-5a734a2b9332",
   "metadata": {},
   "outputs": [],
   "source": []
  }
 ],
 "metadata": {
  "kernelspec": {
   "display_name": "Python 3 (ipykernel)",
   "language": "python",
   "name": "python3"
  },
  "language_info": {
   "codemirror_mode": {
    "name": "ipython",
    "version": 3
   },
   "file_extension": ".py",
   "mimetype": "text/x-python",
   "name": "python",
   "nbconvert_exporter": "python",
   "pygments_lexer": "ipython3",
   "version": "3.11.7"
  }
 },
 "nbformat": 4,
 "nbformat_minor": 5
}
