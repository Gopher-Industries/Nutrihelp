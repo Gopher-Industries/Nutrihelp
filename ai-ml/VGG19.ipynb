{
 "cells": [
  {
   "cell_type": "code",
   "execution_count": 149,
   "metadata": {},
   "outputs": [
    {
     "name": "stdout",
     "output_type": "stream",
     "text": [
      "Requirement already satisfied: keras in c:\\users\\tanzi\\anaconda3\\envs\\py310\\lib\\site-packages (2.10.0)\n"
     ]
    },
    {
     "name": "stderr",
     "output_type": "stream",
     "text": [
      "The system cannot find the file specified.\n"
     ]
    },
    {
     "name": "stdout",
     "output_type": "stream",
     "text": [
      "Requirement already satisfied: numpy in c:\\users\\tanzi\\anaconda3\\envs\\py310\\lib\\site-packages (1.26.4)\n",
      "Requirement already satisfied: matplotlib in c:\\users\\tanzi\\anaconda3\\envs\\py310\\lib\\site-packages (3.8.3)\n",
      "Requirement already satisfied: contourpy>=1.0.1 in c:\\users\\tanzi\\anaconda3\\envs\\py310\\lib\\site-packages (from matplotlib) (1.2.0)\n",
      "Requirement already satisfied: cycler>=0.10 in c:\\users\\tanzi\\anaconda3\\envs\\py310\\lib\\site-packages (from matplotlib) (0.12.1)\n",
      "Requirement already satisfied: fonttools>=4.22.0 in c:\\users\\tanzi\\anaconda3\\envs\\py310\\lib\\site-packages (from matplotlib) (4.50.0)\n",
      "Requirement already satisfied: kiwisolver>=1.3.1 in c:\\users\\tanzi\\anaconda3\\envs\\py310\\lib\\site-packages (from matplotlib) (1.4.5)\n",
      "Requirement already satisfied: numpy<2,>=1.21 in c:\\users\\tanzi\\anaconda3\\envs\\py310\\lib\\site-packages (from matplotlib) (1.26.4)\n",
      "Requirement already satisfied: packaging>=20.0 in c:\\users\\tanzi\\anaconda3\\envs\\py310\\lib\\site-packages (from matplotlib) (24.0)\n",
      "Requirement already satisfied: pillow>=8 in c:\\users\\tanzi\\anaconda3\\envs\\py310\\lib\\site-packages (from matplotlib) (10.2.0)\n",
      "Requirement already satisfied: pyparsing>=2.3.1 in c:\\users\\tanzi\\anaconda3\\envs\\py310\\lib\\site-packages (from matplotlib) (3.1.2)\n",
      "Requirement already satisfied: python-dateutil>=2.7 in c:\\users\\tanzi\\anaconda3\\envs\\py310\\lib\\site-packages (from matplotlib) (2.9.0)\n",
      "Requirement already satisfied: six>=1.5 in c:\\users\\tanzi\\anaconda3\\envs\\py310\\lib\\site-packages (from python-dateutil>=2.7->matplotlib) (1.16.0)\n",
      "Requirement already satisfied: pandas in c:\\users\\tanzi\\anaconda3\\envs\\py310\\lib\\site-packages (2.2.1)\n",
      "Requirement already satisfied: numpy<2,>=1.22.4 in c:\\users\\tanzi\\anaconda3\\envs\\py310\\lib\\site-packages (from pandas) (1.26.4)\n",
      "Requirement already satisfied: python-dateutil>=2.8.2 in c:\\users\\tanzi\\anaconda3\\envs\\py310\\lib\\site-packages (from pandas) (2.9.0)\n",
      "Requirement already satisfied: pytz>=2020.1 in c:\\users\\tanzi\\anaconda3\\envs\\py310\\lib\\site-packages (from pandas) (2024.1)\n",
      "Requirement already satisfied: tzdata>=2022.7 in c:\\users\\tanzi\\anaconda3\\envs\\py310\\lib\\site-packages (from pandas) (2024.1)\n",
      "Requirement already satisfied: six>=1.5 in c:\\users\\tanzi\\anaconda3\\envs\\py310\\lib\\site-packages (from python-dateutil>=2.8.2->pandas) (1.16.0)\n",
      "Requirement already satisfied: scikit-learn in c:\\users\\tanzi\\anaconda3\\envs\\py310\\lib\\site-packages (1.4.1.post1)\n",
      "Requirement already satisfied: numpy<2.0,>=1.19.5 in c:\\users\\tanzi\\anaconda3\\envs\\py310\\lib\\site-packages (from scikit-learn) (1.26.4)\n",
      "Requirement already satisfied: scipy>=1.6.0 in c:\\users\\tanzi\\anaconda3\\envs\\py310\\lib\\site-packages (from scikit-learn) (1.12.0)\n",
      "Requirement already satisfied: joblib>=1.2.0 in c:\\users\\tanzi\\anaconda3\\envs\\py310\\lib\\site-packages (from scikit-learn) (1.3.2)\n",
      "Requirement already satisfied: threadpoolctl>=2.0.0 in c:\\users\\tanzi\\anaconda3\\envs\\py310\\lib\\site-packages (from scikit-learn) (3.4.0)\n",
      "Requirement already satisfied: seaborn in c:\\users\\tanzi\\anaconda3\\envs\\py310\\lib\\site-packages (0.13.2)\n",
      "Requirement already satisfied: numpy!=1.24.0,>=1.20 in c:\\users\\tanzi\\anaconda3\\envs\\py310\\lib\\site-packages (from seaborn) (1.26.4)\n",
      "Requirement already satisfied: pandas>=1.2 in c:\\users\\tanzi\\anaconda3\\envs\\py310\\lib\\site-packages (from seaborn) (2.2.1)\n",
      "Requirement already satisfied: matplotlib!=3.6.1,>=3.4 in c:\\users\\tanzi\\anaconda3\\envs\\py310\\lib\\site-packages (from seaborn) (3.8.3)\n",
      "Requirement already satisfied: contourpy>=1.0.1 in c:\\users\\tanzi\\anaconda3\\envs\\py310\\lib\\site-packages (from matplotlib!=3.6.1,>=3.4->seaborn) (1.2.0)\n",
      "Requirement already satisfied: cycler>=0.10 in c:\\users\\tanzi\\anaconda3\\envs\\py310\\lib\\site-packages (from matplotlib!=3.6.1,>=3.4->seaborn) (0.12.1)\n",
      "Requirement already satisfied: fonttools>=4.22.0 in c:\\users\\tanzi\\anaconda3\\envs\\py310\\lib\\site-packages (from matplotlib!=3.6.1,>=3.4->seaborn) (4.50.0)\n",
      "Requirement already satisfied: kiwisolver>=1.3.1 in c:\\users\\tanzi\\anaconda3\\envs\\py310\\lib\\site-packages (from matplotlib!=3.6.1,>=3.4->seaborn) (1.4.5)\n",
      "Requirement already satisfied: packaging>=20.0 in c:\\users\\tanzi\\anaconda3\\envs\\py310\\lib\\site-packages (from matplotlib!=3.6.1,>=3.4->seaborn) (24.0)\n",
      "Requirement already satisfied: pillow>=8 in c:\\users\\tanzi\\anaconda3\\envs\\py310\\lib\\site-packages (from matplotlib!=3.6.1,>=3.4->seaborn) (10.2.0)\n",
      "Requirement already satisfied: pyparsing>=2.3.1 in c:\\users\\tanzi\\anaconda3\\envs\\py310\\lib\\site-packages (from matplotlib!=3.6.1,>=3.4->seaborn) (3.1.2)\n",
      "Requirement already satisfied: python-dateutil>=2.7 in c:\\users\\tanzi\\anaconda3\\envs\\py310\\lib\\site-packages (from matplotlib!=3.6.1,>=3.4->seaborn) (2.9.0)\n",
      "Requirement already satisfied: pytz>=2020.1 in c:\\users\\tanzi\\anaconda3\\envs\\py310\\lib\\site-packages (from pandas>=1.2->seaborn) (2024.1)\n",
      "Requirement already satisfied: tzdata>=2022.7 in c:\\users\\tanzi\\anaconda3\\envs\\py310\\lib\\site-packages (from pandas>=1.2->seaborn) (2024.1)\n",
      "Requirement already satisfied: six>=1.5 in c:\\users\\tanzi\\anaconda3\\envs\\py310\\lib\\site-packages (from python-dateutil>=2.7->matplotlib!=3.6.1,>=3.4->seaborn) (1.16.0)\n"
     ]
    }
   ],
   "source": [
    "!pip install keras\n",
    "!pip install tensorflow<2.11\n",
    "!pip install numpy\n",
    "!pip install matplotlib\n",
    "!pip install pandas\n",
    "!pip install scikit-learn\n",
    "!pip install seaborn"
   ]
  },
  {
   "cell_type": "code",
   "execution_count": 150,
   "metadata": {},
   "outputs": [],
   "source": [
    "import matplotlib.pyplot as plt\n",
    "import pandas as pd\n",
    "import seaborn as sn\n",
    "import numpy as np\n",
    "from tensorflow.keras.preprocessing.image import ImageDataGenerator\n",
    "from tensorflow.keras.applications import VGG19, vgg16\n",
    "from tensorflow.keras.layers import AveragePooling2D, Conv2D, MaxPooling2D, Dropout, Dense, Input, Flatten\n",
    "from tensorflow.keras.models import Sequential\n",
    "from tensorflow.keras.utils import load_img, img_to_array\n",
    "from sklearn.metrics import confusion_matrix\n",
    "from sklearn.model_selection import train_test_split\n"
   ]
  },
  {
   "cell_type": "code",
   "execution_count": 151,
   "metadata": {},
   "outputs": [
    {
     "data": {
      "text/plain": [
       "'2.10.0'"
      ]
     },
     "execution_count": 151,
     "metadata": {},
     "output_type": "execute_result"
    }
   ],
   "source": [
    "import keras\n",
    "keras.__version__"
   ]
  },
  {
   "cell_type": "code",
   "execution_count": 152,
   "metadata": {},
   "outputs": [
    {
     "name": "stdout",
     "output_type": "stream",
     "text": [
      "['Apple Braeburn', 'Apple Crimson Snow', 'Apple Golden 1', 'Apple Golden 2', 'Apple Golden 3', 'Apple Granny Smith', 'Apple Pink Lady', 'Apple Red 1', 'Apple Red 2', 'Apple Red 3', 'Apple Red Delicious', 'Apple Red Yellow 1', 'Apple Red Yellow 2', 'Apricot', 'Avocado', 'Avocado ripe', 'Banana', 'Banana Lady Finger', 'Banana Red', 'Beetroot', 'Blueberry', 'Cactus fruit', 'Cantaloupe 1', 'Cantaloupe 2', 'Carambula', 'Cauliflower', 'Cherry 1', 'Cherry 2', 'Cherry Rainier', 'Cherry Wax Black', 'Cherry Wax Red', 'Cherry Wax Yellow', 'Chestnut', 'Clementine', 'Cocos', 'Corn', 'Corn Husk', 'Cucumber Ripe', 'Cucumber Ripe 2', 'Dates', 'Eggplant', 'Fig', 'Ginger Root', 'Granadilla', 'Grape Blue', 'Grape Pink', 'Grape White', 'Grape White 2', 'Grape White 3', 'Grape White 4', 'Grapefruit Pink', 'Grapefruit White', 'Guava', 'Hazelnut', 'Huckleberry', 'Kaki', 'Kiwi', 'Kohlrabi', 'Kumquats', 'Lemon', 'Lemon Meyer', 'Limes', 'Lychee', 'Mandarine', 'Mango', 'Mango Red', 'Mangostan', 'Maracuja', 'Melon Piel de Sapo', 'Mulberry', 'Nectarine', 'Nectarine Flat', 'Nut Forest', 'Nut Pecan', 'Onion Red', 'Onion Red Peeled', 'Onion White', 'Orange', 'Papaya', 'Passion Fruit', 'Peach', 'Peach 2', 'Peach Flat', 'Pear', 'Pear 2', 'Pear Abate', 'Pear Forelle', 'Pear Kaiser', 'Pear Monster', 'Pear Red', 'Pear Stone', 'Pear Williams', 'Pepino', 'Pepper Green', 'Pepper Orange', 'Pepper Red', 'Pepper Yellow', 'Physalis', 'Physalis with Husk', 'Pineapple', 'Pineapple Mini', 'Pitahaya Red', 'Plum', 'Plum 2', 'Plum 3', 'Pomegranate', 'Pomelo Sweetie', 'Potato Red', 'Potato Red Washed', 'Potato Sweet', 'Potato White', 'Quince', 'Rambutan', 'Raspberry', 'Redcurrant', 'Salak', 'Strawberry', 'Strawberry Wedge', 'Tamarillo', 'Tangelo', 'Tomato 1', 'Tomato 2', 'Tomato 3', 'Tomato 4', 'Tomato Cherry Red', 'Tomato Heart', 'Tomato Maroon', 'Tomato not Ripened', 'Tomato Yellow', 'Walnut', 'Watermelon']\n"
     ]
    }
   ],
   "source": [
    "import os\n",
    "print(os.listdir(\"Fruit360/fruits-360_dataset/fruits-360/Training/\"))\n"
   ]
  },
  {
   "cell_type": "code",
   "execution_count": 153,
   "metadata": {},
   "outputs": [
    {
     "name": "stdout",
     "output_type": "stream",
     "text": [
      "['Apple Braeburn', 'Apple Crimson Snow', 'Apple Golden 1', 'Apple Golden 2', 'Apple Golden 3', 'Apple Granny Smith', 'Apple Pink Lady', 'Apple Red 1', 'Apple Red 2', 'Apple Red 3', 'Apple Red Delicious', 'Apple Red Yellow 1', 'Apple Red Yellow 2', 'Apricot', 'Avocado', 'Avocado ripe', 'Banana', 'Banana Lady Finger', 'Banana Red', 'Beetroot', 'Blueberry', 'Cactus fruit', 'Cantaloupe 1', 'Cantaloupe 2', 'Carambula', 'Cauliflower', 'Cherry 1', 'Cherry 2', 'Cherry Rainier', 'Cherry Wax Black', 'Cherry Wax Red', 'Cherry Wax Yellow', 'Chestnut', 'Clementine', 'Cocos', 'Corn', 'Corn Husk', 'Cucumber Ripe', 'Cucumber Ripe 2', 'Dates', 'Eggplant', 'Fig', 'Ginger Root', 'Granadilla', 'Grape Blue', 'Grape Pink', 'Grape White', 'Grape White 2', 'Grape White 3', 'Grape White 4', 'Grapefruit Pink', 'Grapefruit White', 'Guava', 'Hazelnut', 'Huckleberry', 'Kaki', 'Kiwi', 'Kohlrabi', 'Kumquats', 'Lemon', 'Lemon Meyer', 'Limes', 'Lychee', 'Mandarine', 'Mango', 'Mango Red', 'Mangostan', 'Maracuja', 'Melon Piel de Sapo', 'Mulberry', 'Nectarine', 'Nectarine Flat', 'Nut Forest', 'Nut Pecan', 'Onion Red', 'Onion Red Peeled', 'Onion White', 'Orange', 'Papaya', 'Passion Fruit', 'Peach', 'Peach 2', 'Peach Flat', 'Pear', 'Pear 2', 'Pear Abate', 'Pear Forelle', 'Pear Kaiser', 'Pear Monster', 'Pear Red', 'Pear Stone', 'Pear Williams', 'Pepino', 'Pepper Green', 'Pepper Orange', 'Pepper Red', 'Pepper Yellow', 'Physalis', 'Physalis with Husk', 'Pineapple', 'Pineapple Mini', 'Pitahaya Red', 'Plum', 'Plum 2', 'Plum 3', 'Pomegranate', 'Pomelo Sweetie', 'Potato Red', 'Potato Red Washed', 'Potato Sweet', 'Potato White', 'Quince', 'Rambutan', 'Raspberry', 'Redcurrant', 'Salak', 'Strawberry', 'Strawberry Wedge', 'Tamarillo', 'Tangelo', 'Tomato 1', 'Tomato 2', 'Tomato 3', 'Tomato 4', 'Tomato Cherry Red', 'Tomato Heart', 'Tomato Maroon', 'Tomato Yellow', 'Tomato not Ripened', 'Walnut', 'Watermelon']\n"
     ]
    }
   ],
   "source": [
    "fruits = ['Apple Braeburn', 'Apple Crimson Snow', 'Apple Golden 1', 'Apple Golden 2', 'Apple Golden 3', 'Apple Granny Smith', 'Apple Pink Lady', 'Apple Red 1', 'Apple Red 2', 'Apple Red 3', 'Apple Red Delicious', 'Apple Red Yellow 1', 'Apple Red Yellow 2', 'Apricot', 'Avocado', 'Avocado ripe', 'Banana', 'Banana Lady Finger', 'Banana Red', 'Beetroot', 'Blueberry', 'Cactus fruit', 'Cantaloupe 1', 'Cantaloupe 2', 'Carambula', 'Cauliflower', 'Cherry 1', 'Cherry 2', 'Cherry Rainier', 'Cherry Wax Black', 'Cherry Wax Red', 'Cherry Wax Yellow', 'Chestnut', 'Clementine', 'Cocos', 'Corn', 'Corn Husk', 'Cucumber Ripe', 'Cucumber Ripe 2', 'Dates', 'Eggplant', 'Fig', 'Ginger Root', 'Granadilla', 'Grape Blue', 'Grape Pink', 'Grape White', 'Grape White 2', 'Grape White 3', 'Grape White 4', 'Grapefruit Pink', 'Grapefruit White', 'Guava', 'Hazelnut', 'Huckleberry', 'Kaki', 'Kiwi', 'Kohlrabi', 'Kumquats', 'Lemon', 'Lemon Meyer', 'Limes', 'Lychee', 'Mandarine', 'Mango', 'Mango Red', 'Mangostan', 'Maracuja', 'Melon Piel de Sapo', 'Mulberry', 'Nectarine', 'Nectarine Flat', 'Nut Forest', 'Nut Pecan', 'Onion Red', 'Onion Red Peeled', 'Onion White', 'Orange', 'Papaya', 'Passion Fruit', 'Peach', 'Peach 2', 'Peach Flat', 'Pear', 'Pear 2', 'Pear Abate', 'Pear Forelle', 'Pear Kaiser', 'Pear Monster', 'Pear Red', 'Pear Stone', 'Pear Williams', 'Pepino', 'Pepper Green', 'Pepper Orange', 'Pepper Red', 'Pepper Yellow', 'Physalis', 'Physalis with Husk', 'Pineapple', 'Pineapple Mini', 'Pitahaya Red', 'Plum', 'Plum 2', 'Plum 3', 'Pomegranate', 'Pomelo Sweetie', 'Potato Red', 'Potato Red Washed', 'Potato Sweet', 'Potato White', 'Quince', 'Rambutan', 'Raspberry', 'Redcurrant', 'Salak', 'Strawberry', 'Strawberry Wedge', 'Tamarillo', 'Tangelo', 'Tomato 1', 'Tomato 2', 'Tomato 3', 'Tomato 4', 'Tomato Cherry Red', 'Tomato Heart', 'Tomato Maroon', 'Tomato not Ripened', 'Tomato Yellow', 'Walnut', 'Watermelon']\n",
    "fruits.sort()\n",
    "print(fruits)"
   ]
  },
  {
   "cell_type": "code",
   "execution_count": 154,
   "metadata": {},
   "outputs": [
    {
     "name": "stdout",
     "output_type": "stream",
     "text": [
      "Number of Fruits:  131\n"
     ]
    }
   ],
   "source": [
    "print(\"Number of Fruits: \",len(fruits))"
   ]
  },
  {
   "cell_type": "code",
   "execution_count": 155,
   "metadata": {},
   "outputs": [
    {
     "name": "stdout",
     "output_type": "stream",
     "text": [
      "['Apple Braeburn:~52 calories per 100 grams', 'Apple Crimson Snow:~52 calories per 100 grams', 'Apple Golden 1:~52 calories per 100 grams', 'Apple Golden 2:~52 calories per 100 grams', 'Apple Golden 3:~52 calories per 100 grams', 'Apple Granny Smith:~52 calories per 100 grams', 'Apple Pink Lady:~52 calories per 100 grams', 'Apple Red 1:~52 calories per 100 grams', 'Apple Red 2:~52 calories per 100 grams', 'Apple Red 3:~52 calories per 100 grams', 'Apple Red Delicious:~52 calories per 100 grams', 'Apple Red Yellow 1:~52 calories per 100 grams', 'Apple Red Yellow 2:~52 calories per 100 grams', 'Apricot:~48 calories per 100 grams', 'Avocado:~160 calories per 100 grams', 'Avocado ripe:~160 calories per 100 grams', 'Banana:~89 calories per 100 grams', 'Banana Lady Finger:~89 calories per 100 grams', 'Banana Red:~89 calories per 100 grams', 'Beetroot:~43 calories per 100 grams', 'Blueberry:~57 calories per 100 grams', 'Cactus fruit:~50 calories per 100 grams', 'Cantaloupe 1:~34 calories per 100 grams', 'Cantaloupe 2:~34 calories per 100 grams', 'Carambula:~31 calories per 100 grams', 'Cauliflower:~25 calories per 100 grams', 'Cherry 1:~50 calories per 100 grams', 'Cherry 2:~50 calories per 100 grams', 'Cherry Rainier:~50 calories per 100 grams', 'Cherry Wax Black:~50 calories per 100 grams', 'Cherry Wax Red:~50 calories per 100 grams', 'Cherry Wax Yellow:~50 calories per 100 grams', 'Chestnut:~213 calories per 100 grams', 'Clementine:~47 calories per 100 grams', 'Cocos:~354 calories per 100 grams', 'Corn:~86 calories per 100 grams', 'Corn Husk:~86 calories per 100 grams', 'Cucumber Ripe:~15 calories per 100 grams', 'Cucumber Ripe 2:~15 calories per 100 grams', 'Dates:~277 calories per 100 grams', 'Eggplant:~25 calories per 100 grams', 'Fig:~74 calories per 100 grams', 'Ginger Root:~50 calories per 100 grams', 'Granadilla:~97 calories per 100 grams', 'Grape Blue:~69 calories per 100 grams', 'Grape Pink:~69 calories per 100 grams', 'Grape White:~69 calories per 100 grams', 'Grape White 2:~69 calories per 100 grams', 'Grape White 3:~69 calories per 100 grams', 'Grape White 4:~69 calories per 100 grams', 'Grapefruit Pink:~42 calories per 100 grams', 'Grapefruit White:~42 calories per 100 grams', 'Guava:~68 calories per 100 grams', 'Hazelnut:~628 calories per 100 grams', 'Huckleberry:~40 calories per 100 grams', 'Kaki:~81 calories per 100 grams', 'Kiwi:~61 calories per 100 grams', 'Kohlrabi:~27 calories per 100 grams', 'Kumquats:~71 calories per 100 grams', 'Lemon:~29 calories per 100 grams', 'Lemon Meyer:~29 calories per 100 grams', 'Limes:~30 calories per 100 grams', 'Lychee:~66 calories per 100 grams', 'Mandarine:~53 calories per 100 grams', 'Mango:~60 calories per 100 grams', 'Mango Red:~60 calories per 100 grams', 'Mangostan:~73 calories per 100 grams', 'Maracuja:~97 calories per 100 grams', 'Melon Piel de Sapo:~50 calories per 100 grams', 'Mulberry:~43 calories per 100 grams', 'Nectarine:~44 calories per 100 grams', 'Nectarine Flat:~44 calories per 100 grams', 'Nut Forest:~50 calories per 100 grams', 'Nut Pecan:~50 calories per 100 grams', 'Onion Red:~50 calories per 100 grams', 'Onion Red Peeled:~50 calories per 100 grams', 'Onion White:~50 calories per 100 grams', 'Orange:~47 calories per 100 grams', 'Papaya:~43 calories per 100 grams', 'Passion Fruit:~50 calories per 100 grams', 'Peach:~39 calories per 100 grams', 'Peach 2:~39 calories per 100 grams', 'Peach Flat:~39 calories per 100 grams', 'Pear:~57 calories per 100 grams', 'Pear 2:~57 calories per 100 grams', 'Pear Abate:~57 calories per 100 grams', 'Pear Forelle:~57 calories per 100 grams', 'Pear Kaiser:~57 calories per 100 grams', 'Pear Monster:~57 calories per 100 grams', 'Pear Red:~57 calories per 100 grams', 'Pear Stone:~57 calories per 100 grams', 'Pear Williams:~57 calories per 100 grams', 'Pepino:~42 calories per 100 grams', 'Pepper Green:~50 calories per 100 grams', 'Pepper Orange:~50 calories per 100 grams', 'Pepper Red:~50 calories per 100 grams', 'Pepper Yellow:~50 calories per 100 grams', 'Physalis:~53 calories per 100 grams', 'Physalis with Husk:~53 calories per 100 grams', 'Pineapple:~50 calories per 100 grams', 'Pineapple Mini:~50 calories per 100 grams', 'Pitahaya Red:~50 calories per 100 grams', 'Plum:~46 calories per 100 grams', 'Plum 2:~46 calories per 100 grams', 'Plum 3:~46 calories per 100 grams', 'Pomegranate:~83 calories per 100 grams', 'Pomelo Sweetie:~50 calories per 100 grams', 'Potato Red:~50 calories per 100 grams', 'Potato Red Washed:~50 calories per 100 grams', 'Potato Sweet:~50 calories per 100 grams', 'Potato White:~50 calories per 100 grams', 'Quince:~57 calories per 100 grams', 'Rambutan:~68 calories per 100 grams', 'Raspberry:~52 calories per 100 grams', 'Redcurrant:~56 calories per 100 grams', 'Salak:~82 calories per 100 grams', 'Strawberry:~32 calories per 100 grams', 'Strawberry Wedge:~32 calories per 100 grams', 'Tamarillo:~31 calories per 100 grams', 'Tangelo:~53 calories per 100 grams', 'Tomato 1:~18 calories per 100 grams', 'Tomato 2:~18 calories per 100 grams', 'Tomato 3:~18 calories per 100 grams', 'Tomato 4:~18 calories per 100 grams', 'Tomato Cherry Red:~18 calories per 100 grams', 'Tomato Heart:~18 calories per 100 grams', 'Tomato Maroon:~18 calories per 100 grams', 'Tomato not Ripened:~18 calories per 100 grams', 'Tomato Yellow:~18 calories per 100 grams', 'Walnut:~654 calories per 100 grams', 'Watermelon:~30 calories per 100 grams']\n"
     ]
    }
   ],
   "source": [
    "cal_values = \"\"\"Apple Braeburn:~52 calories per 100 grams\n",
    "Apple Crimson Snow:~52 calories per 100 grams\n",
    "Apple Golden 1:~52 calories per 100 grams\n",
    "Apple Golden 2:~52 calories per 100 grams\n",
    "Apple Golden 3:~52 calories per 100 grams\n",
    "Apple Granny Smith:~52 calories per 100 grams\n",
    "Apple Pink Lady:~52 calories per 100 grams\n",
    "Apple Red 1:~52 calories per 100 grams\n",
    "Apple Red 2:~52 calories per 100 grams\n",
    "Apple Red 3:~52 calories per 100 grams\n",
    "Apple Red Delicious:~52 calories per 100 grams\n",
    "Apple Red Yellow 1:~52 calories per 100 grams\n",
    "Apple Red Yellow 2:~52 calories per 100 grams\n",
    "Apricot:~48 calories per 100 grams\n",
    "Avocado:~160 calories per 100 grams\n",
    "Avocado ripe:~160 calories per 100 grams\n",
    "Banana:~89 calories per 100 grams\n",
    "Banana Lady Finger:~89 calories per 100 grams\n",
    "Banana Red:~89 calories per 100 grams\n",
    "Beetroot:~43 calories per 100 grams\n",
    "Blueberry:~57 calories per 100 grams\n",
    "Cactus fruit:~50 calories per 100 grams\n",
    "Cantaloupe 1:~34 calories per 100 grams\n",
    "Cantaloupe 2:~34 calories per 100 grams\n",
    "Carambula:~31 calories per 100 grams\n",
    "Cauliflower:~25 calories per 100 grams\n",
    "Cherry 1:~50 calories per 100 grams\n",
    "Cherry 2:~50 calories per 100 grams\n",
    "Cherry Rainier:~50 calories per 100 grams\n",
    "Cherry Wax Black:~50 calories per 100 grams\n",
    "Cherry Wax Red:~50 calories per 100 grams\n",
    "Cherry Wax Yellow:~50 calories per 100 grams\n",
    "Chestnut:~213 calories per 100 grams\n",
    "Clementine:~47 calories per 100 grams\n",
    "Cocos:~354 calories per 100 grams\n",
    "Corn:~86 calories per 100 grams\n",
    "Corn Husk:~86 calories per 100 grams\n",
    "Cucumber Ripe:~15 calories per 100 grams\n",
    "Cucumber Ripe 2:~15 calories per 100 grams\n",
    "Dates:~277 calories per 100 grams\n",
    "Eggplant:~25 calories per 100 grams\n",
    "Fig:~74 calories per 100 grams\n",
    "Ginger Root:~50 calories per 100 grams\n",
    "Granadilla:~97 calories per 100 grams\n",
    "Grape Blue:~69 calories per 100 grams\n",
    "Grape Pink:~69 calories per 100 grams\n",
    "Grape White:~69 calories per 100 grams\n",
    "Grape White 2:~69 calories per 100 grams\n",
    "Grape White 3:~69 calories per 100 grams\n",
    "Grape White 4:~69 calories per 100 grams\n",
    "Grapefruit Pink:~42 calories per 100 grams\n",
    "Grapefruit White:~42 calories per 100 grams\n",
    "Guava:~68 calories per 100 grams\n",
    "Hazelnut:~628 calories per 100 grams\n",
    "Huckleberry:~40 calories per 100 grams\n",
    "Kaki:~81 calories per 100 grams\n",
    "Kiwi:~61 calories per 100 grams\n",
    "Kohlrabi:~27 calories per 100 grams\n",
    "Kumquats:~71 calories per 100 grams\n",
    "Lemon:~29 calories per 100 grams\n",
    "Lemon Meyer:~29 calories per 100 grams\n",
    "Limes:~30 calories per 100 grams\n",
    "Lychee:~66 calories per 100 grams\n",
    "Mandarine:~53 calories per 100 grams\n",
    "Mango:~60 calories per 100 grams\n",
    "Mango Red:~60 calories per 100 grams\n",
    "Mangostan:~73 calories per 100 grams\n",
    "Maracuja:~97 calories per 100 grams\n",
    "Melon Piel de Sapo:~50 calories per 100 grams\n",
    "Mulberry:~43 calories per 100 grams\n",
    "Nectarine:~44 calories per 100 grams\n",
    "Nectarine Flat:~44 calories per 100 grams\n",
    "Nut Forest:~50 calories per 100 grams\n",
    "Nut Pecan:~50 calories per 100 grams\n",
    "Onion Red:~50 calories per 100 grams\n",
    "Onion Red Peeled:~50 calories per 100 grams\n",
    "Onion White:~50 calories per 100 grams\n",
    "Orange:~47 calories per 100 grams\n",
    "Papaya:~43 calories per 100 grams\n",
    "Passion Fruit:~50 calories per 100 grams\n",
    "Peach:~39 calories per 100 grams\n",
    "Peach 2:~39 calories per 100 grams\n",
    "Peach Flat:~39 calories per 100 grams\n",
    "Pear:~57 calories per 100 grams\n",
    "Pear 2:~57 calories per 100 grams\n",
    "Pear Abate:~57 calories per 100 grams\n",
    "Pear Forelle:~57 calories per 100 grams\n",
    "Pear Kaiser:~57 calories per 100 grams\n",
    "Pear Monster:~57 calories per 100 grams\n",
    "Pear Red:~57 calories per 100 grams\n",
    "Pear Stone:~57 calories per 100 grams\n",
    "Pear Williams:~57 calories per 100 grams\n",
    "Pepino:~42 calories per 100 grams\n",
    "Pepper Green:~50 calories per 100 grams\n",
    "Pepper Orange:~50 calories per 100 grams\n",
    "Pepper Red:~50 calories per 100 grams\n",
    "Pepper Yellow:~50 calories per 100 grams\n",
    "Physalis:~53 calories per 100 grams\n",
    "Physalis with Husk:~53 calories per 100 grams\n",
    "Pineapple:~50 calories per 100 grams\n",
    "Pineapple Mini:~50 calories per 100 grams\n",
    "Pitahaya Red:~50 calories per 100 grams\n",
    "Plum:~46 calories per 100 grams\n",
    "Plum 2:~46 calories per 100 grams\n",
    "Plum 3:~46 calories per 100 grams\n",
    "Pomegranate:~83 calories per 100 grams\n",
    "Pomelo Sweetie:~50 calories per 100 grams\n",
    "Potato Red:~50 calories per 100 grams\n",
    "Potato Red Washed:~50 calories per 100 grams\n",
    "Potato Sweet:~50 calories per 100 grams\n",
    "Potato White:~50 calories per 100 grams\n",
    "Quince:~57 calories per 100 grams\n",
    "Rambutan:~68 calories per 100 grams\n",
    "Raspberry:~52 calories per 100 grams\n",
    "Redcurrant:~56 calories per 100 grams\n",
    "Salak:~82 calories per 100 grams\n",
    "Strawberry:~32 calories per 100 grams\n",
    "Strawberry Wedge:~32 calories per 100 grams\n",
    "Tamarillo:~31 calories per 100 grams\n",
    "Tangelo:~53 calories per 100 grams\n",
    "Tomato 1:~18 calories per 100 grams\n",
    "Tomato 2:~18 calories per 100 grams\n",
    "Tomato 3:~18 calories per 100 grams\n",
    "Tomato 4:~18 calories per 100 grams\n",
    "Tomato Cherry Red:~18 calories per 100 grams\n",
    "Tomato Heart:~18 calories per 100 grams\n",
    "Tomato Maroon:~18 calories per 100 grams\n",
    "Tomato not Ripened:~18 calories per 100 grams\n",
    "Tomato Yellow:~18 calories per 100 grams\n",
    "Walnut:~654 calories per 100 grams\n",
    "Watermelon:~30 calories per 100 grams\"\"\"\n",
    "\n",
    "calories = cal_values.splitlines()\n",
    "print(calories)"
   ]
  },
  {
   "cell_type": "code",
   "execution_count": 156,
   "metadata": {},
   "outputs": [
    {
     "data": {
      "text/plain": [
       "131"
      ]
     },
     "execution_count": 156,
     "metadata": {},
     "output_type": "execute_result"
    }
   ],
   "source": [
    "len(calories)"
   ]
  },
  {
   "cell_type": "code",
   "execution_count": 157,
   "metadata": {},
   "outputs": [
    {
     "data": {
      "text/plain": [
       "'Apple Braeburn:~52 calories per 100 grams'"
      ]
     },
     "execution_count": 157,
     "metadata": {},
     "output_type": "execute_result"
    }
   ],
   "source": [
    "calories[0]"
   ]
  },
  {
   "cell_type": "code",
   "execution_count": 158,
   "metadata": {},
   "outputs": [
    {
     "name": "stdout",
     "output_type": "stream",
     "text": [
      "First element of calories:  Apple Braeburn \n",
      "Last element of calories:  Watermelon\n"
     ]
    }
   ],
   "source": [
    "print(\"First element of calories: \",fruits[0], \"\\nLast element of calories: \",fruits[-1])"
   ]
  },
  {
   "cell_type": "code",
   "execution_count": 159,
   "metadata": {},
   "outputs": [
    {
     "name": "stdout",
     "output_type": "stream",
     "text": [
      "Found 60955 images belonging to 131 classes.\n",
      "Found 2209 images belonging to 131 classes.\n"
     ]
    }
   ],
   "source": [
    "train_data_gen = ImageDataGenerator(rescale = 1./255, validation_split = 0.1)\n",
    "train_data = train_data_gen.flow_from_directory(\"Fruit360/fruits-360_dataset/fruits-360/Training/\", \n",
    "                                                target_size = (224,224),\n",
    "                                                batch_size = 100,\n",
    "                                                class_mode = 'categorical',\n",
    "                                                shuffle = True,\n",
    "                                                subset = 'training')\n",
    "\n",
    "val_data = train_data_gen.flow_from_directory(\"Fruit360/fruits-360_dataset/fruits-360/Test/\",\n",
    "                                                target_size = (224,224),\n",
    "                                                batch_size = 100,\n",
    "                                                class_mode = 'categorical',\n",
    "                                                shuffle = False,\n",
    "                                                subset = 'validation')"
   ]
  },
  {
   "cell_type": "code",
   "execution_count": 160,
   "metadata": {},
   "outputs": [
    {
     "name": "stdout",
     "output_type": "stream",
     "text": [
      "Image Shape:  (224, 224, 3)\n"
     ]
    }
   ],
   "source": [
    "print(\"Image Shape: \", train_data.image_shape)"
   ]
  },
  {
   "cell_type": "code",
   "execution_count": 161,
   "metadata": {},
   "outputs": [
    {
     "name": "stdout",
     "output_type": "stream",
     "text": [
      "\n",
      "Number of Batches in Training Data:  610 \n",
      "Number of Batches in Validation Data:  23 \n",
      "Number of Samples in Training Data:  60955 \n",
      "Number of Samples in Validation Data:  2209\n"
     ]
    }
   ],
   "source": [
    "print(\n",
    "      \"\\nNumber of Batches in Training Data: \", len(train_data),\n",
    "      \"\\nNumber of Batches in Validation Data: \", len(val_data),\n",
    "      \"\\nNumber of Samples in Training Data: \", train_data.samples,\n",
    "      \"\\nNumber of Samples in Validation Data: \", val_data.samples)"
   ]
  },
  {
   "cell_type": "code",
   "execution_count": 162,
   "metadata": {},
   "outputs": [
    {
     "data": {
      "text/plain": [
       "(224, 224, 3)"
      ]
     },
     "execution_count": 162,
     "metadata": {},
     "output_type": "execute_result"
    }
   ],
   "source": [
    "train_data.image_shape"
   ]
  },
  {
   "cell_type": "code",
   "execution_count": 163,
   "metadata": {},
   "outputs": [
    {
     "data": {
      "text/plain": [
       "array([  0,   1,   2,   3,   4,   5,   6,   7,   8,   9,  10,  11,  12,\n",
       "        13,  14,  15,  16,  17,  18,  19,  20,  21,  22,  23,  24,  25,\n",
       "        26,  27,  28,  29,  30,  31,  32,  33,  34,  35,  36,  37,  38,\n",
       "        39,  40,  41,  42,  43,  44,  45,  46,  47,  48,  49,  50,  51,\n",
       "        52,  53,  54,  55,  56,  57,  58,  59,  60,  61,  62,  63,  64,\n",
       "        65,  66,  67,  68,  69,  70,  71,  72,  73,  74,  75,  76,  77,\n",
       "        78,  79,  80,  81,  82,  83,  84,  85,  86,  87,  88,  89,  90,\n",
       "        91,  92,  93,  94,  95,  96,  97,  98,  99, 100, 101, 102, 103,\n",
       "       104, 105, 106, 107, 108, 109, 110, 111, 112, 113, 114, 115, 116,\n",
       "       117, 118, 119, 120, 121, 122, 123, 124, 125, 126, 127, 128, 129,\n",
       "       130])"
      ]
     },
     "execution_count": 163,
     "metadata": {},
     "output_type": "execute_result"
    }
   ],
   "source": [
    "np.unique(train_data.labels)"
   ]
  },
  {
   "cell_type": "code",
   "execution_count": 164,
   "metadata": {},
   "outputs": [
    {
     "data": {
      "text/plain": [
       "array([  0,   1,   2,   3,   4,   5,   6,   7,   8,   9,  10,  11,  12,\n",
       "        13,  14,  15,  16,  17,  18,  19,  20,  21,  22,  23,  24,  25,\n",
       "        26,  27,  28,  29,  30,  31,  32,  33,  34,  35,  36,  37,  38,\n",
       "        39,  40,  41,  42,  43,  44,  45,  46,  47,  48,  49,  50,  51,\n",
       "        52,  53,  54,  55,  56,  57,  58,  59,  60,  61,  62,  63,  64,\n",
       "        65,  66,  67,  68,  69,  70,  71,  72,  73,  74,  75,  76,  77,\n",
       "        78,  79,  80,  81,  82,  83,  84,  85,  86,  87,  88,  89,  90,\n",
       "        91,  92,  93,  94,  95,  96,  97,  98,  99, 100, 101, 102, 103,\n",
       "       104, 105, 106, 107, 108, 109, 110, 111, 112, 113, 114, 115, 116,\n",
       "       117, 118, 119, 120, 121, 122, 123, 124, 125, 126, 127, 128, 129,\n",
       "       130])"
      ]
     },
     "execution_count": 164,
     "metadata": {},
     "output_type": "execute_result"
    }
   ],
   "source": [
    "np.unique(val_data.labels)"
   ]
  },
  {
   "cell_type": "code",
   "execution_count": 165,
   "metadata": {},
   "outputs": [
    {
     "data": {
      "text/plain": [
       "{'Apple Braeburn': 0,\n",
       " 'Apple Crimson Snow': 1,\n",
       " 'Apple Golden 1': 2,\n",
       " 'Apple Golden 2': 3,\n",
       " 'Apple Golden 3': 4,\n",
       " 'Apple Granny Smith': 5,\n",
       " 'Apple Pink Lady': 6,\n",
       " 'Apple Red 1': 7,\n",
       " 'Apple Red 2': 8,\n",
       " 'Apple Red 3': 9,\n",
       " 'Apple Red Delicious': 10,\n",
       " 'Apple Red Yellow 1': 11,\n",
       " 'Apple Red Yellow 2': 12,\n",
       " 'Apricot': 13,\n",
       " 'Avocado': 14,\n",
       " 'Avocado ripe': 15,\n",
       " 'Banana': 16,\n",
       " 'Banana Lady Finger': 17,\n",
       " 'Banana Red': 18,\n",
       " 'Beetroot': 19,\n",
       " 'Blueberry': 20,\n",
       " 'Cactus fruit': 21,\n",
       " 'Cantaloupe 1': 22,\n",
       " 'Cantaloupe 2': 23,\n",
       " 'Carambula': 24,\n",
       " 'Cauliflower': 25,\n",
       " 'Cherry 1': 26,\n",
       " 'Cherry 2': 27,\n",
       " 'Cherry Rainier': 28,\n",
       " 'Cherry Wax Black': 29,\n",
       " 'Cherry Wax Red': 30,\n",
       " 'Cherry Wax Yellow': 31,\n",
       " 'Chestnut': 32,\n",
       " 'Clementine': 33,\n",
       " 'Cocos': 34,\n",
       " 'Corn': 35,\n",
       " 'Corn Husk': 36,\n",
       " 'Cucumber Ripe': 37,\n",
       " 'Cucumber Ripe 2': 38,\n",
       " 'Dates': 39,\n",
       " 'Eggplant': 40,\n",
       " 'Fig': 41,\n",
       " 'Ginger Root': 42,\n",
       " 'Granadilla': 43,\n",
       " 'Grape Blue': 44,\n",
       " 'Grape Pink': 45,\n",
       " 'Grape White': 46,\n",
       " 'Grape White 2': 47,\n",
       " 'Grape White 3': 48,\n",
       " 'Grape White 4': 49,\n",
       " 'Grapefruit Pink': 50,\n",
       " 'Grapefruit White': 51,\n",
       " 'Guava': 52,\n",
       " 'Hazelnut': 53,\n",
       " 'Huckleberry': 54,\n",
       " 'Kaki': 55,\n",
       " 'Kiwi': 56,\n",
       " 'Kohlrabi': 57,\n",
       " 'Kumquats': 58,\n",
       " 'Lemon': 59,\n",
       " 'Lemon Meyer': 60,\n",
       " 'Limes': 61,\n",
       " 'Lychee': 62,\n",
       " 'Mandarine': 63,\n",
       " 'Mango': 64,\n",
       " 'Mango Red': 65,\n",
       " 'Mangostan': 66,\n",
       " 'Maracuja': 67,\n",
       " 'Melon Piel de Sapo': 68,\n",
       " 'Mulberry': 69,\n",
       " 'Nectarine': 70,\n",
       " 'Nectarine Flat': 71,\n",
       " 'Nut Forest': 72,\n",
       " 'Nut Pecan': 73,\n",
       " 'Onion Red': 74,\n",
       " 'Onion Red Peeled': 75,\n",
       " 'Onion White': 76,\n",
       " 'Orange': 77,\n",
       " 'Papaya': 78,\n",
       " 'Passion Fruit': 79,\n",
       " 'Peach': 80,\n",
       " 'Peach 2': 81,\n",
       " 'Peach Flat': 82,\n",
       " 'Pear': 83,\n",
       " 'Pear 2': 84,\n",
       " 'Pear Abate': 85,\n",
       " 'Pear Forelle': 86,\n",
       " 'Pear Kaiser': 87,\n",
       " 'Pear Monster': 88,\n",
       " 'Pear Red': 89,\n",
       " 'Pear Stone': 90,\n",
       " 'Pear Williams': 91,\n",
       " 'Pepino': 92,\n",
       " 'Pepper Green': 93,\n",
       " 'Pepper Orange': 94,\n",
       " 'Pepper Red': 95,\n",
       " 'Pepper Yellow': 96,\n",
       " 'Physalis': 97,\n",
       " 'Physalis with Husk': 98,\n",
       " 'Pineapple': 99,\n",
       " 'Pineapple Mini': 100,\n",
       " 'Pitahaya Red': 101,\n",
       " 'Plum': 102,\n",
       " 'Plum 2': 103,\n",
       " 'Plum 3': 104,\n",
       " 'Pomegranate': 105,\n",
       " 'Pomelo Sweetie': 106,\n",
       " 'Potato Red': 107,\n",
       " 'Potato Red Washed': 108,\n",
       " 'Potato Sweet': 109,\n",
       " 'Potato White': 110,\n",
       " 'Quince': 111,\n",
       " 'Rambutan': 112,\n",
       " 'Raspberry': 113,\n",
       " 'Redcurrant': 114,\n",
       " 'Salak': 115,\n",
       " 'Strawberry': 116,\n",
       " 'Strawberry Wedge': 117,\n",
       " 'Tamarillo': 118,\n",
       " 'Tangelo': 119,\n",
       " 'Tomato 1': 120,\n",
       " 'Tomato 2': 121,\n",
       " 'Tomato 3': 122,\n",
       " 'Tomato 4': 123,\n",
       " 'Tomato Cherry Red': 124,\n",
       " 'Tomato Heart': 125,\n",
       " 'Tomato Maroon': 126,\n",
       " 'Tomato Yellow': 127,\n",
       " 'Tomato not Ripened': 128,\n",
       " 'Walnut': 129,\n",
       " 'Watermelon': 130}"
      ]
     },
     "execution_count": 165,
     "metadata": {},
     "output_type": "execute_result"
    }
   ],
   "source": [
    "train_data.class_indices"
   ]
  },
  {
   "cell_type": "code",
   "execution_count": 166,
   "metadata": {},
   "outputs": [
    {
     "name": "stdout",
     "output_type": "stream",
     "text": [
      "Model: \"vgg19\"\n",
      "_________________________________________________________________\n",
      " Layer (type)                Output Shape              Param #   \n",
      "=================================================================\n",
      " input_4 (InputLayer)        [(None, 224, 224, 3)]     0         \n",
      "                                                                 \n",
      " block1_conv1 (Conv2D)       (None, 224, 224, 64)      1792      \n",
      "                                                                 \n",
      " block1_conv2 (Conv2D)       (None, 224, 224, 64)      36928     \n",
      "                                                                 \n",
      " block1_pool (MaxPooling2D)  (None, 112, 112, 64)      0         \n",
      "                                                                 \n",
      " block2_conv1 (Conv2D)       (None, 112, 112, 128)     73856     \n",
      "                                                                 \n",
      " block2_conv2 (Conv2D)       (None, 112, 112, 128)     147584    \n",
      "                                                                 \n",
      " block2_pool (MaxPooling2D)  (None, 56, 56, 128)       0         \n",
      "                                                                 \n",
      " block3_conv1 (Conv2D)       (None, 56, 56, 256)       295168    \n",
      "                                                                 \n",
      " block3_conv2 (Conv2D)       (None, 56, 56, 256)       590080    \n",
      "                                                                 \n",
      " block3_conv3 (Conv2D)       (None, 56, 56, 256)       590080    \n",
      "                                                                 \n",
      " block3_conv4 (Conv2D)       (None, 56, 56, 256)       590080    \n",
      "                                                                 \n",
      " block3_pool (MaxPooling2D)  (None, 28, 28, 256)       0         \n",
      "                                                                 \n",
      " block4_conv1 (Conv2D)       (None, 28, 28, 512)       1180160   \n",
      "                                                                 \n",
      " block4_conv2 (Conv2D)       (None, 28, 28, 512)       2359808   \n",
      "                                                                 \n",
      " block4_conv3 (Conv2D)       (None, 28, 28, 512)       2359808   \n",
      "                                                                 \n",
      " block4_conv4 (Conv2D)       (None, 28, 28, 512)       2359808   \n",
      "                                                                 \n",
      " block4_pool (MaxPooling2D)  (None, 14, 14, 512)       0         \n",
      "                                                                 \n",
      " block5_conv1 (Conv2D)       (None, 14, 14, 512)       2359808   \n",
      "                                                                 \n",
      " block5_conv2 (Conv2D)       (None, 14, 14, 512)       2359808   \n",
      "                                                                 \n",
      " block5_conv3 (Conv2D)       (None, 14, 14, 512)       2359808   \n",
      "                                                                 \n",
      " block5_conv4 (Conv2D)       (None, 14, 14, 512)       2359808   \n",
      "                                                                 \n",
      " block5_pool (MaxPooling2D)  (None, 7, 7, 512)         0         \n",
      "                                                                 \n",
      "=================================================================\n",
      "Total params: 20,024,384\n",
      "Trainable params: 20,024,384\n",
      "Non-trainable params: 0\n",
      "_________________________________________________________________\n"
     ]
    }
   ],
   "source": [
    "vgg = VGG19(weights = 'imagenet', include_top = False, input_tensor = Input(shape = (224,224,3)))\n",
    "vgg.summary()"
   ]
  },
  {
   "cell_type": "code",
   "execution_count": 167,
   "metadata": {},
   "outputs": [
    {
     "name": "stdout",
     "output_type": "stream",
     "text": [
      "Model: \"vgg19\"\n",
      "_________________________________________________________________\n",
      " Layer (type)                Output Shape              Param #   \n",
      "=================================================================\n",
      " input_4 (InputLayer)        [(None, 224, 224, 3)]     0         \n",
      "                                                                 \n",
      " block1_conv1 (Conv2D)       (None, 224, 224, 64)      1792      \n",
      "                                                                 \n",
      " block1_conv2 (Conv2D)       (None, 224, 224, 64)      36928     \n",
      "                                                                 \n",
      " block1_pool (MaxPooling2D)  (None, 112, 112, 64)      0         \n",
      "                                                                 \n",
      " block2_conv1 (Conv2D)       (None, 112, 112, 128)     73856     \n",
      "                                                                 \n",
      " block2_conv2 (Conv2D)       (None, 112, 112, 128)     147584    \n",
      "                                                                 \n",
      " block2_pool (MaxPooling2D)  (None, 56, 56, 128)       0         \n",
      "                                                                 \n",
      " block3_conv1 (Conv2D)       (None, 56, 56, 256)       295168    \n",
      "                                                                 \n",
      " block3_conv2 (Conv2D)       (None, 56, 56, 256)       590080    \n",
      "                                                                 \n",
      " block3_conv3 (Conv2D)       (None, 56, 56, 256)       590080    \n",
      "                                                                 \n",
      " block3_conv4 (Conv2D)       (None, 56, 56, 256)       590080    \n",
      "                                                                 \n",
      " block3_pool (MaxPooling2D)  (None, 28, 28, 256)       0         \n",
      "                                                                 \n",
      " block4_conv1 (Conv2D)       (None, 28, 28, 512)       1180160   \n",
      "                                                                 \n",
      " block4_conv2 (Conv2D)       (None, 28, 28, 512)       2359808   \n",
      "                                                                 \n",
      " block4_conv3 (Conv2D)       (None, 28, 28, 512)       2359808   \n",
      "                                                                 \n",
      " block4_conv4 (Conv2D)       (None, 28, 28, 512)       2359808   \n",
      "                                                                 \n",
      " block4_pool (MaxPooling2D)  (None, 14, 14, 512)       0         \n",
      "                                                                 \n",
      " block5_conv1 (Conv2D)       (None, 14, 14, 512)       2359808   \n",
      "                                                                 \n",
      " block5_conv2 (Conv2D)       (None, 14, 14, 512)       2359808   \n",
      "                                                                 \n",
      " block5_conv3 (Conv2D)       (None, 14, 14, 512)       2359808   \n",
      "                                                                 \n",
      " block5_conv4 (Conv2D)       (None, 14, 14, 512)       2359808   \n",
      "                                                                 \n",
      " block5_pool (MaxPooling2D)  (None, 7, 7, 512)         0         \n",
      "                                                                 \n",
      "=================================================================\n",
      "Total params: 20,024,384\n",
      "Trainable params: 0\n",
      "Non-trainable params: 20,024,384\n",
      "_________________________________________________________________\n"
     ]
    }
   ],
   "source": [
    "for layer in vgg.layers:\n",
    "    layer.trainable = False\n",
    "\n",
    "vgg.summary()"
   ]
  },
  {
   "cell_type": "code",
   "execution_count": 168,
   "metadata": {},
   "outputs": [
    {
     "name": "stdout",
     "output_type": "stream",
     "text": [
      "Model: \"sequential_5\"\n",
      "_________________________________________________________________\n",
      " Layer (type)                Output Shape              Param #   \n",
      "=================================================================\n",
      " vgg19 (Functional)          (None, 7, 7, 512)         20024384  \n",
      "                                                                 \n",
      " flatten_5 (Flatten)         (None, 25088)             0         \n",
      "                                                                 \n",
      " dense_15 (Dense)            (None, 1024)              25691136  \n",
      "                                                                 \n",
      " dense_16 (Dense)            (None, 1024)              1049600   \n",
      "                                                                 \n",
      " dropout_5 (Dropout)         (None, 1024)              0         \n",
      "                                                                 \n",
      " dense_17 (Dense)            (None, 131)               134275    \n",
      "                                                                 \n",
      "=================================================================\n",
      "Total params: 46,899,395\n",
      "Trainable params: 26,875,011\n",
      "Non-trainable params: 20,024,384\n",
      "_________________________________________________________________\n"
     ]
    }
   ],
   "source": [
    "modeltt = Sequential()\n",
    "modeltt.add(vgg)\n",
    "modeltt.add(Flatten())\n",
    "modeltt.add(Dense(1024, activation = 'relu'))\n",
    "modeltt.add(Dense(1024, activation = 'relu'))\n",
    "modeltt.add(Dropout(0.25))\n",
    "modeltt.add(Dense(131, activation = 'softmax'))\n",
    "modeltt.summary()"
   ]
  },
  {
   "cell_type": "code",
   "execution_count": 169,
   "metadata": {},
   "outputs": [
    {
     "name": "stdout",
     "output_type": "stream",
     "text": [
      "Epoch 1/10\n",
      "610/610 [==============================] - 67s 106ms/step - loss: 0.8633 - accuracy: 0.8343 - val_loss: 0.1417 - val_accuracy: 0.9760\n",
      "Epoch 2/10\n",
      "610/610 [==============================] - 62s 102ms/step - loss: 0.0372 - accuracy: 0.9970 - val_loss: 0.0889 - val_accuracy: 0.9819\n",
      "Epoch 3/10\n",
      "610/610 [==============================] - 62s 102ms/step - loss: 0.0121 - accuracy: 0.9995 - val_loss: 0.0798 - val_accuracy: 0.9814\n",
      "Epoch 4/10\n",
      "610/610 [==============================] - 62s 102ms/step - loss: 0.0065 - accuracy: 0.9996 - val_loss: 0.0715 - val_accuracy: 0.9819\n",
      "Epoch 5/10\n",
      "610/610 [==============================] - 158s 259ms/step - loss: 0.0038 - accuracy: 0.9998 - val_loss: 0.0757 - val_accuracy: 0.9778\n"
     ]
    }
   ],
   "source": [
    "from keras.optimizers import Adam\n",
    "modeltt.compile(optimizer=Adam(learning_rate=0.0001), loss='categorical_crossentropy', metrics=['accuracy'])\n",
    "\n",
    "from tensorflow.keras.callbacks import EarlyStopping\n",
    "resulttt = modeltt.fit(train_data, validation_data=val_data, epochs=10, steps_per_epoch=len(train_data), validation_steps=len(val_data),\n",
    "                       callbacks=[EarlyStopping(patience=3, monitor='val_accuracy', restore_best_weights=True)])"
   ]
  },
  {
   "cell_type": "code",
   "execution_count": 202,
   "metadata": {},
   "outputs": [],
   "source": [
    "modeltt.save('modeltt.h5')\n"
   ]
  },
  {
   "cell_type": "code",
   "execution_count": 217,
   "metadata": {},
   "outputs": [
    {
     "name": "stdout",
     "output_type": "stream",
     "text": [
      "23/23 [==============================] - 2s 105ms/step\n"
     ]
    }
   ],
   "source": [
    "from sklearn.metrics import f1_score\n",
    "from sklearn.metrics import classification_report\n",
    "from sklearn.metrics import confusion_matrix\n",
    "from sklearn.metrics import accuracy_score\n",
    "\n",
    "y_pred = modeltt.predict(val_data)\n",
    "\n",
    "y_pred= np.argmax(y_pred, axis=1)\n",
    "y_true = val_data.labels\n",
    "\n",
    "print(\"F1 Score: \", f1_score(y_true, y_pred, average='weighted'))\n",
    "print(\"Classification Report: \\n\", classification_report(y_true, y_pred))\n",
    "print(\"Confusion Matrix: \\n\", confusion_matrix(y_true, y_pred))\n",
    "print(\"Accuracy Score: \", accuracy_score(y_true, y_pred))\n",
    "\n",
    "\n",
    "\n",
    "\n",
    "\n",
    "\n"
   ]
  },
  {
   "cell_type": "code",
   "execution_count": 218,
   "metadata": {},
   "outputs": [
    {
     "data": {
      "text/plain": [
       "array([  0,   0,   0, ..., 130, 130, 130])"
      ]
     },
     "execution_count": 218,
     "metadata": {},
     "output_type": "execute_result"
    }
   ],
   "source": [
    "y_true"
   ]
  },
  {
   "cell_type": "code",
   "execution_count": 192,
   "metadata": {},
   "outputs": [
    {
     "name": "stdout",
     "output_type": "stream",
     "text": [
      "['Apple Braeburn', 'Apple Crimson Snow', 'Apple Golden 1', 'Apple Golden 2', 'Apple Golden 3', 'Apple Granny Smith', 'Apple Pink Lady', 'Apple Red 1', 'Apple Red 2', 'Apple Red 3', 'Apple Red Delicious', 'Apple Red Yellow 1', 'Apple Red Yellow 2', 'Apricot', 'Avocado', 'Avocado ripe', 'Banana', 'Banana Lady Finger', 'Banana Red', 'Beetroot', 'Blueberry', 'Cactus fruit', 'Cantaloupe 1', 'Cantaloupe 2', 'Carambula', 'Cauliflower', 'Cherry 1', 'Cherry 2', 'Cherry Rainier', 'Cherry Wax Black', 'Cherry Wax Red', 'Cherry Wax Yellow', 'Chestnut', 'Clementine', 'Cocos', 'Corn', 'Corn Husk', 'Cucumber Ripe', 'Cucumber Ripe 2', 'Dates', 'Eggplant', 'Fig', 'Ginger Root', 'Granadilla', 'Grape Blue', 'Grape Pink', 'Grape White', 'Grape White 2', 'Grape White 3', 'Grape White 4', 'Grapefruit Pink', 'Grapefruit White', 'Guava', 'Hazelnut', 'Huckleberry', 'Kaki', 'Kiwi', 'Kohlrabi', 'Kumquats', 'Lemon', 'Lemon Meyer', 'Limes', 'Lychee', 'Mandarine', 'Mango', 'Mango Red', 'Mangostan', 'Maracuja', 'Melon Piel de Sapo', 'Mulberry', 'Nectarine', 'Nectarine Flat', 'Nut Forest', 'Nut Pecan', 'Onion Red', 'Onion Red Peeled', 'Onion White', 'Orange', 'Papaya', 'Passion Fruit', 'Peach', 'Peach 2', 'Peach Flat', 'Pear', 'Pear 2', 'Pear Abate', 'Pear Forelle', 'Pear Kaiser', 'Pear Monster', 'Pear Red', 'Pear Stone', 'Pear Williams', 'Pepino', 'Pepper Green', 'Pepper Orange', 'Pepper Red', 'Pepper Yellow', 'Physalis', 'Physalis with Husk', 'Pineapple', 'Pineapple Mini', 'Pitahaya Red', 'Plum', 'Plum 2', 'Plum 3', 'Pomegranate', 'Pomelo Sweetie', 'Potato Red', 'Potato Red Washed', 'Potato Sweet', 'Potato White', 'Quince', 'Rambutan', 'Raspberry', 'Redcurrant', 'Salak', 'Strawberry', 'Strawberry Wedge', 'Tamarillo', 'Tangelo', 'Tomato 1', 'Tomato 2', 'Tomato 3', 'Tomato 4', 'Tomato Cherry Red', 'Tomato Heart', 'Tomato Maroon', 'Tomato not Ripened', 'Tomato Yellow', 'Walnut', 'Watermelon']\n"
     ]
    }
   ],
   "source": [
    "print(os.listdir(\"Fruit360/fruits-360_dataset/fruits-360/Test/\"))"
   ]
  },
  {
   "cell_type": "code",
   "execution_count": 231,
   "metadata": {},
   "outputs": [
    {
     "name": "stdout",
     "output_type": "stream",
     "text": [
      "Apple Braeburn\n"
     ]
    },
    {
     "data": {
      "image/jpeg": "[encoded data removed]",
      "image/png": "[encoded data removed]",
      "text/plain": [
       "<PIL.Image.Image image mode=RGB size=224x224>"
      ]
     },
     "execution_count": 231,
     "metadata": {},
     "output_type": "execute_result"
    }
   ],
   "source": [
    "print(\"Apple Braeburn\")\n",
    "apple = load_img(\"Fruit360/fruits-360_dataset/fruits-360/Test/Apple Braeburn/1.jpg\", target_size=(224,224))\n",
    "apple"
   ]
  },
  {
   "cell_type": "code",
   "execution_count": 232,
   "metadata": {},
   "outputs": [
    {
     "data": {
      "text/plain": [
       "(1, 224, 224, 3)"
      ]
     },
     "execution_count": 232,
     "metadata": {},
     "output_type": "execute_result"
    }
   ],
   "source": [
    "apple1= img_to_array(apple)\n",
    "apple1 = apple1/255\n",
    "apple1 = apple1.reshape(1,224,224,3)\n",
    "apple1.shape\n",
    "\n",
    "\n"
   ]
  },
  {
   "cell_type": "code",
   "execution_count": 233,
   "metadata": {},
   "outputs": [
    {
     "name": "stdout",
     "output_type": "stream",
     "text": [
      "1/1 [==============================] - 0s 17ms/step\n",
      "55 Kaki:~81 calories per 100 grams\n"
     ]
    }
   ],
   "source": [
    "p1 = modeltt.predict(apple1).argmax()\n",
    "\n",
    "print(p1, calories[p1])"
   ]
  }
 ],
 "metadata": {
  "kernelspec": {
   "display_name": "Python 3",
   "language": "python",
   "name": "python3"
  },
  "language_info": {
   "codemirror_mode": {
    "name": "ipython",
    "version": 3
   },
   "file_extension": ".py",
   "mimetype": "text/x-python",
   "name": "python",
   "nbconvert_exporter": "python",
   "pygments_lexer": "ipython3",
   "version": "3.10.14"
  }
 },
 "nbformat": 4,
 "nbformat_minor": 2
}
